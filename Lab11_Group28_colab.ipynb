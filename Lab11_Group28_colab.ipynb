{
  "cells": [
    {
      "cell_type": "code",
      "execution_count": 27,
      "id": "4fbc73f1",
      "metadata": {
        "colab": {
          "base_uri": "https://localhost:8080/"
        },
        "id": "4fbc73f1",
        "outputId": "5d14aac9-3043-4929-9610-79be110f68c5"
      },
      "outputs": [
        {
          "name": "stderr",
          "output_type": "stream",
          "text": [
            "  % Total    % Received % Xferd  Average Speed   Time    Time     Time  Current\n",
            "                                 Dload  Upload   Total   Spent    Left  Speed\n",
            "\n",
            "  0     0    0     0    0     0      0      0 --:--:-- --:--:-- --:--:--     0\n",
            "100  703k  100  703k    0     0  1833k      0 --:--:-- --:--:-- --:--:-- 1846k\n",
            "  % Total    % Received % Xferd  Average Speed   Time    Time     Time  Current\n",
            "                                 Dload  Upload   Total   Spent    Left  Speed\n",
            "\n",
            "  0     0    0     0    0     0      0      0 --:--:-- --:--:-- --:--:--     0\n",
            "  8  184k    8 15461    0     0  51368      0  0:00:03 --:--:--  0:00:03 51536\n",
            "100  184k  100  184k    0     0   542k      0 --:--:-- --:--:-- --:--:--  543k\n"
          ]
        }
      ],
      "source": [
        "# download the dataset\n",
        "!curl -O https://raw.githubusercontent.com/clairett/pytorch-sentiment-classification/master/data/SST2/train.tsv\n",
        "!curl -O https://raw.githubusercontent.com/clairett/pytorch-sentiment-classification/master/data/SST2/test.tsv"
      ]
    },
    {
      "cell_type": "code",
      "execution_count": 28,
      "id": "0f4b40d6",
      "metadata": {
        "id": "0f4b40d6"
      },
      "outputs": [],
      "source": [
        "# load the dataset\n",
        "import pandas as pd\n",
        "train_df = pd.read_csv('train.tsv', sep='\\t')\n",
        "test_df = pd.read_csv('test.tsv', sep='\\t')"
      ]
    },
    {
      "cell_type": "code",
      "execution_count": 29,
      "id": "1590d0bb",
      "metadata": {
        "colab": {
          "base_uri": "https://localhost:8080/"
        },
        "id": "1590d0bb",
        "outputId": "46187d76-8a64-42b6-9e12-f0cb29524ca1"
      },
      "outputs": [
        {
          "name": "stdout",
          "output_type": "stream",
          "text": [
            "Number of training samples: 6919\n",
            "Number of testing samples: 1820\n",
            "Number of labels: 2\n",
            "Labels: [0 1]\n"
          ]
        }
      ],
      "source": [
        "print(\"Number of training samples:\", len(train_df))\n",
        "print(\"Number of testing samples:\", len(test_df))\n",
        "print(\"Number of labels:\", len(train_df.iloc[:,1].unique()))\n",
        "print(\"Labels:\", train_df.iloc[:,1].unique())"
      ]
    },
    {
      "cell_type": "code",
      "execution_count": 30,
      "id": "acc30ca1",
      "metadata": {
        "colab": {
          "base_uri": "https://localhost:8080/",
          "height": 423
        },
        "id": "acc30ca1",
        "outputId": "64790971-8f56-49f1-f76d-2d823b49b1e1"
      },
      "outputs": [
        {
          "data": {
            "text/html": [
              "<div>\n",
              "<style scoped>\n",
              "    .dataframe tbody tr th:only-of-type {\n",
              "        vertical-align: middle;\n",
              "    }\n",
              "\n",
              "    .dataframe tbody tr th {\n",
              "        vertical-align: top;\n",
              "    }\n",
              "\n",
              "    .dataframe thead th {\n",
              "        text-align: right;\n",
              "    }\n",
              "</style>\n",
              "<table border=\"1\" class=\"dataframe\">\n",
              "  <thead>\n",
              "    <tr style=\"text-align: right;\">\n",
              "      <th></th>\n",
              "      <th>a stirring , funny and finally transporting re imagining of beauty and the beast and 1930s horror films</th>\n",
              "      <th>1</th>\n",
              "    </tr>\n",
              "  </thead>\n",
              "  <tbody>\n",
              "    <tr>\n",
              "      <th>0</th>\n",
              "      <td>apparently reassembled from the cutting room f...</td>\n",
              "      <td>0</td>\n",
              "    </tr>\n",
              "    <tr>\n",
              "      <th>1</th>\n",
              "      <td>they presume their audience wo n't sit still f...</td>\n",
              "      <td>0</td>\n",
              "    </tr>\n",
              "    <tr>\n",
              "      <th>2</th>\n",
              "      <td>this is a visually stunning rumination on love...</td>\n",
              "      <td>1</td>\n",
              "    </tr>\n",
              "    <tr>\n",
              "      <th>3</th>\n",
              "      <td>jonathan parker 's bartleby should have been t...</td>\n",
              "      <td>1</td>\n",
              "    </tr>\n",
              "    <tr>\n",
              "      <th>4</th>\n",
              "      <td>campanella gets the tone just right funny in t...</td>\n",
              "      <td>1</td>\n",
              "    </tr>\n",
              "    <tr>\n",
              "      <th>...</th>\n",
              "      <td>...</td>\n",
              "      <td>...</td>\n",
              "    </tr>\n",
              "    <tr>\n",
              "      <th>6914</th>\n",
              "      <td>painful , horrifying and oppressively tragic ,...</td>\n",
              "      <td>1</td>\n",
              "    </tr>\n",
              "    <tr>\n",
              "      <th>6915</th>\n",
              "      <td>take care is nicely performed by a quintet of ...</td>\n",
              "      <td>0</td>\n",
              "    </tr>\n",
              "    <tr>\n",
              "      <th>6916</th>\n",
              "      <td>the script covers huge , heavy topics in a bla...</td>\n",
              "      <td>0</td>\n",
              "    </tr>\n",
              "    <tr>\n",
              "      <th>6917</th>\n",
              "      <td>a seriously bad film with seriously warped log...</td>\n",
              "      <td>0</td>\n",
              "    </tr>\n",
              "    <tr>\n",
              "      <th>6918</th>\n",
              "      <td>a deliciously nonsensical comedy about a city ...</td>\n",
              "      <td>1</td>\n",
              "    </tr>\n",
              "  </tbody>\n",
              "</table>\n",
              "<p>6919 rows × 2 columns</p>\n",
              "</div>"
            ],
            "text/plain": [
              "     a stirring , funny and finally transporting re imagining of beauty and the beast and 1930s horror films  \\\n",
              "0     apparently reassembled from the cutting room f...                                                        \n",
              "1     they presume their audience wo n't sit still f...                                                        \n",
              "2     this is a visually stunning rumination on love...                                                        \n",
              "3     jonathan parker 's bartleby should have been t...                                                        \n",
              "4     campanella gets the tone just right funny in t...                                                        \n",
              "...                                                 ...                                                        \n",
              "6914  painful , horrifying and oppressively tragic ,...                                                        \n",
              "6915  take care is nicely performed by a quintet of ...                                                        \n",
              "6916  the script covers huge , heavy topics in a bla...                                                        \n",
              "6917  a seriously bad film with seriously warped log...                                                        \n",
              "6918  a deliciously nonsensical comedy about a city ...                                                        \n",
              "\n",
              "      1  \n",
              "0     0  \n",
              "1     0  \n",
              "2     1  \n",
              "3     1  \n",
              "4     1  \n",
              "...  ..  \n",
              "6914  1  \n",
              "6915  0  \n",
              "6916  0  \n",
              "6917  0  \n",
              "6918  1  \n",
              "\n",
              "[6919 rows x 2 columns]"
            ]
          },
          "execution_count": 30,
          "metadata": {},
          "output_type": "execute_result"
        }
      ],
      "source": [
        "train_df"
      ]
    },
    {
      "cell_type": "code",
      "execution_count": 31,
      "id": "cf1012f3",
      "metadata": {
        "colab": {
          "base_uri": "https://localhost:8080/",
          "height": 423
        },
        "id": "cf1012f3",
        "outputId": "7eee0781-74fa-461e-c862-b4ff0e26a99f"
      },
      "outputs": [
        {
          "data": {
            "text/html": [
              "<div>\n",
              "<style scoped>\n",
              "    .dataframe tbody tr th:only-of-type {\n",
              "        vertical-align: middle;\n",
              "    }\n",
              "\n",
              "    .dataframe tbody tr th {\n",
              "        vertical-align: top;\n",
              "    }\n",
              "\n",
              "    .dataframe thead th {\n",
              "        text-align: right;\n",
              "    }\n",
              "</style>\n",
              "<table border=\"1\" class=\"dataframe\">\n",
              "  <thead>\n",
              "    <tr style=\"text-align: right;\">\n",
              "      <th></th>\n",
              "      <th>no movement , no yuks , not much of anything</th>\n",
              "      <th>0</th>\n",
              "    </tr>\n",
              "  </thead>\n",
              "  <tbody>\n",
              "    <tr>\n",
              "      <th>0</th>\n",
              "      <td>a gob of drivel so sickly sweet , even the eag...</td>\n",
              "      <td>0</td>\n",
              "    </tr>\n",
              "    <tr>\n",
              "      <th>1</th>\n",
              "      <td>gangs of new york is an unapologetic mess , wh...</td>\n",
              "      <td>0</td>\n",
              "    </tr>\n",
              "    <tr>\n",
              "      <th>2</th>\n",
              "      <td>we never really feel involved with the story ,...</td>\n",
              "      <td>0</td>\n",
              "    </tr>\n",
              "    <tr>\n",
              "      <th>3</th>\n",
              "      <td>this is one of polanski 's best films</td>\n",
              "      <td>1</td>\n",
              "    </tr>\n",
              "    <tr>\n",
              "      <th>4</th>\n",
              "      <td>take care of my cat offers a refreshingly diff...</td>\n",
              "      <td>1</td>\n",
              "    </tr>\n",
              "    <tr>\n",
              "      <th>...</th>\n",
              "      <td>...</td>\n",
              "      <td>...</td>\n",
              "    </tr>\n",
              "    <tr>\n",
              "      <th>1815</th>\n",
              "      <td>an often deadly boring , strange reading of a ...</td>\n",
              "      <td>0</td>\n",
              "    </tr>\n",
              "    <tr>\n",
              "      <th>1816</th>\n",
              "      <td>the problem with concept films is that if the ...</td>\n",
              "      <td>0</td>\n",
              "    </tr>\n",
              "    <tr>\n",
              "      <th>1817</th>\n",
              "      <td>safe conduct , however ambitious and well inte...</td>\n",
              "      <td>0</td>\n",
              "    </tr>\n",
              "    <tr>\n",
              "      <th>1818</th>\n",
              "      <td>a film made with as little wit , interest , an...</td>\n",
              "      <td>0</td>\n",
              "    </tr>\n",
              "    <tr>\n",
              "      <th>1819</th>\n",
              "      <td>but here 's the real damn it is n't funny , ei...</td>\n",
              "      <td>0</td>\n",
              "    </tr>\n",
              "  </tbody>\n",
              "</table>\n",
              "<p>1820 rows × 2 columns</p>\n",
              "</div>"
            ],
            "text/plain": [
              "           no movement , no yuks , not much of anything  0\n",
              "0     a gob of drivel so sickly sweet , even the eag...  0\n",
              "1     gangs of new york is an unapologetic mess , wh...  0\n",
              "2     we never really feel involved with the story ,...  0\n",
              "3                 this is one of polanski 's best films  1\n",
              "4     take care of my cat offers a refreshingly diff...  1\n",
              "...                                                 ... ..\n",
              "1815  an often deadly boring , strange reading of a ...  0\n",
              "1816  the problem with concept films is that if the ...  0\n",
              "1817  safe conduct , however ambitious and well inte...  0\n",
              "1818  a film made with as little wit , interest , an...  0\n",
              "1819  but here 's the real damn it is n't funny , ei...  0\n",
              "\n",
              "[1820 rows x 2 columns]"
            ]
          },
          "execution_count": 31,
          "metadata": {},
          "output_type": "execute_result"
        }
      ],
      "source": [
        "test_df"
      ]
    },
    {
      "cell_type": "code",
      "execution_count": 32,
      "id": "8cc4cee5",
      "metadata": {
        "colab": {
          "base_uri": "https://localhost:8080/"
        },
        "id": "8cc4cee5",
        "outputId": "2ee1484f-bdb6-427a-ec3d-4634a1c5d1d3"
      },
      "outputs": [
        {
          "name": "stdout",
          "output_type": "stream",
          "text": [
            "Number of training samples: 5535\n",
            "Number of validation samples: 1384\n"
          ]
        }
      ],
      "source": [
        "# Split the data into train and validation sets\n",
        "from sklearn.model_selection import train_test_split\n",
        "train_df, val_df = train_test_split(train_df, test_size=0.2, random_state=42, stratify=train_df.iloc[:,1])\n",
        "print(\"Number of training samples:\", len(train_df))\n",
        "print(\"Number of validation samples:\", len(val_df))"
      ]
    },
    {
      "cell_type": "code",
      "execution_count": 33,
      "id": "cd4f0aa8",
      "metadata": {},
      "outputs": [
        {
          "name": "stdout",
          "output_type": "stream",
          "text": [
            "Looking in indexes: https://download.pytorch.org/whl/cu126\n",
            "Requirement already satisfied: torch in d:\\clg_stuff\\stt quiz 3\\.venv\\lib\\site-packages (2.6.0+cu126)\n",
            "Requirement already satisfied: torchvision in d:\\clg_stuff\\stt quiz 3\\.venv\\lib\\site-packages (0.21.0+cu126)\n",
            "Requirement already satisfied: torchaudio in d:\\clg_stuff\\stt quiz 3\\.venv\\lib\\site-packages (2.6.0+cu126)\n",
            "Requirement already satisfied: filelock in d:\\clg_stuff\\stt quiz 3\\.venv\\lib\\site-packages (from torch) (3.18.0)\n",
            "Requirement already satisfied: typing-extensions>=4.10.0 in d:\\clg_stuff\\stt quiz 3\\.venv\\lib\\site-packages (from torch) (4.13.2)\n",
            "Requirement already satisfied: networkx in d:\\clg_stuff\\stt quiz 3\\.venv\\lib\\site-packages (from torch) (3.4.2)\n",
            "Requirement already satisfied: jinja2 in d:\\clg_stuff\\stt quiz 3\\.venv\\lib\\site-packages (from torch) (3.1.2)\n",
            "Requirement already satisfied: fsspec in d:\\clg_stuff\\stt quiz 3\\.venv\\lib\\site-packages (from torch) (2024.12.0)\n",
            "Requirement already satisfied: sympy==1.13.1 in d:\\clg_stuff\\stt quiz 3\\.venv\\lib\\site-packages (from torch) (1.13.1)\n",
            "Requirement already satisfied: mpmath<1.4,>=1.1.0 in d:\\clg_stuff\\stt quiz 3\\.venv\\lib\\site-packages (from sympy==1.13.1->torch) (1.3.0)\n",
            "Requirement already satisfied: numpy in d:\\clg_stuff\\stt quiz 3\\.venv\\lib\\site-packages (from torchvision) (2.2.5)\n",
            "Requirement already satisfied: pillow!=8.3.*,>=5.3.0 in d:\\clg_stuff\\stt quiz 3\\.venv\\lib\\site-packages (from torchvision) (11.2.1)\n",
            "Requirement already satisfied: MarkupSafe>=2.0 in d:\\clg_stuff\\stt quiz 3\\.venv\\lib\\site-packages (from jinja2->torch) (3.0.2)\n"
          ]
        }
      ],
      "source": [
        "!pip3 install torch torchvision torchaudio --index-url https://download.pytorch.org/whl/cu126"
      ]
    },
    {
      "cell_type": "code",
      "execution_count": 34,
      "id": "c532c41e",
      "metadata": {
        "id": "c532c41e"
      },
      "outputs": [],
      "source": [
        "import torch\n",
        "import torch.nn as nn"
      ]
    },
    {
      "cell_type": "code",
      "execution_count": 35,
      "id": "ddf5a4a8",
      "metadata": {
        "id": "ddf5a4a8"
      },
      "outputs": [],
      "source": [
        "# Construct MLP\n",
        "\n",
        "class MLP(nn.Module):\n",
        "    def __init__(self,input,output):\n",
        "        super().__init__()\n",
        "        self.layer1 = nn.Linear(input,512)\n",
        "        self.layer2 = nn.Linear(512,256)\n",
        "        self.layer3 = nn.Linear(256,128)\n",
        "        self.layer4 = nn.Linear(128,64)\n",
        "        self.layer5 = nn.Linear(64,output)\n",
        "        self.relu = nn.ReLU()\n",
        "        self.dropout = nn.Dropout(0.3)\n",
        "\n",
        "    def forward(self,x):\n",
        "        x = self.layer1(x)\n",
        "        x = self.relu(x)\n",
        "        x = self.dropout(x)\n",
        "        x = self.layer2(x)\n",
        "        x = self.relu(x)\n",
        "        x = self.dropout(x)\n",
        "        x = self.layer3(x)\n",
        "        x = self.relu(x)\n",
        "        x = self.dropout(x)\n",
        "        x = self.layer4(x)\n",
        "        x = self.relu(x)\n",
        "        x = self.dropout(x)\n",
        "        logits = self.layer5(x)\n",
        "\n",
        "        return logits"
      ]
    },
    {
      "cell_type": "code",
      "execution_count": 36,
      "id": "9b50b0e7",
      "metadata": {
        "id": "9b50b0e7"
      },
      "outputs": [],
      "source": [
        "model = MLP(10000,2)"
      ]
    },
    {
      "cell_type": "code",
      "execution_count": 37,
      "id": "642104ec",
      "metadata": {
        "colab": {
          "base_uri": "https://localhost:8080/"
        },
        "id": "642104ec",
        "outputId": "8f90caf4-e7fd-4ea4-e760-90a52ae0a2dc"
      },
      "outputs": [
        {
          "name": "stdout",
          "output_type": "stream",
          "text": [
            "layer1.weight torch.Size([512, 10000])\n",
            "layer1.bias torch.Size([512])\n",
            "layer2.weight torch.Size([256, 512])\n",
            "layer2.bias torch.Size([256])\n",
            "layer3.weight torch.Size([128, 256])\n",
            "layer3.bias torch.Size([128])\n",
            "layer4.weight torch.Size([64, 128])\n",
            "layer4.bias torch.Size([64])\n",
            "layer5.weight torch.Size([2, 64])\n",
            "layer5.bias torch.Size([2])\n"
          ]
        }
      ],
      "source": [
        "# print model parameters\n",
        "for name, param in model.named_parameters():\n",
        "    if param.requires_grad:\n",
        "        print(name, param.data.shape)"
      ]
    },
    {
      "cell_type": "code",
      "execution_count": 38,
      "id": "d0bc4711",
      "metadata": {
        "colab": {
          "base_uri": "https://localhost:8080/"
        },
        "id": "d0bc4711",
        "outputId": "f3d186f3-79ff-455c-a7f3-e2eace780d9f"
      },
      "outputs": [
        {
          "name": "stdout",
          "output_type": "stream",
          "text": [
            "Total parameters: 5,293,122\n"
          ]
        }
      ],
      "source": [
        "def count_parameters(model):\n",
        "    return sum(p.numel() for p in model.parameters() if p.requires_grad)\n",
        "\n",
        "total_params = count_parameters(model)\n",
        "print(f\"Total parameters: {total_params:,}\")"
      ]
    },
    {
      "cell_type": "code",
      "execution_count": 39,
      "id": "mYb9IYyCWtMe",
      "metadata": {
        "colab": {
          "base_uri": "https://localhost:8080/"
        },
        "id": "mYb9IYyCWtMe",
        "outputId": "6ed438c7-2a9a-4d72-9412-2a0ab7f07822"
      },
      "outputs": [
        {
          "name": "stdout",
          "output_type": "stream",
          "text": [
            "layer1.weight - dtype: torch.float32\n",
            "layer1.bias - dtype: torch.float32\n",
            "layer2.weight - dtype: torch.float32\n",
            "layer2.bias - dtype: torch.float32\n",
            "layer3.weight - dtype: torch.float32\n",
            "layer3.bias - dtype: torch.float32\n",
            "layer4.weight - dtype: torch.float32\n",
            "layer4.bias - dtype: torch.float32\n",
            "layer5.weight - dtype: torch.float32\n",
            "layer5.bias - dtype: torch.float32\n"
          ]
        }
      ],
      "source": [
        "for name, param in model.named_parameters():\n",
        "    print(f\"{name} - dtype: {param.dtype}\")"
      ]
    },
    {
      "cell_type": "code",
      "execution_count": 40,
      "id": "4915f790",
      "metadata": {
        "id": "4915f790"
      },
      "outputs": [],
      "source": [
        "# tokenize the text\n",
        "from sklearn.feature_extraction.text import CountVectorizer\n",
        "\n",
        "train_texts = train_df.iloc[:,0].tolist()\n",
        "\n",
        "vectorizer = CountVectorizer(max_features=10000)\n",
        "vectorizer.fit(train_texts)\n",
        "\n",
        "def tokenize_text(text, vectorizer):\n",
        "    return vectorizer.transform([text]).toarray()[0]\n"
      ]
    },
    {
      "cell_type": "code",
      "execution_count": 41,
      "id": "7483b201",
      "metadata": {
        "colab": {
          "base_uri": "https://localhost:8080/"
        },
        "id": "7483b201",
        "outputId": "ab61f8ff-51b0-4848-951b-d65ed5aee30b"
      },
      "outputs": [],
      "source": [
        "# tokenize the train set and train labels\n",
        "\n",
        "train_texts_vectorized = [tokenize_text(text, vectorizer) for text in train_texts]\n",
        "train_labels = train_df.iloc[:,1].tolist()\n",
        "\n",
        "train_texts_vectorized = torch.tensor(train_texts_vectorized, dtype=torch.float32)\n",
        "train_labels = torch.tensor(train_labels, dtype=torch.long)\n",
        "\n",
        "# tokenize the validation set and validation labels\n",
        "\n",
        "val_texts = val_df.iloc[:,0].tolist()\n",
        "val_texts_vectorized = [tokenize_text(text, vectorizer) for text in val_texts]\n",
        "val_labels = val_df.iloc[:,1].tolist()\n",
        "\n",
        "val_texts_vectorized = torch.tensor(val_texts_vectorized, dtype=torch.float32)\n",
        "val_labels = torch.tensor(val_labels, dtype=torch.long)\n",
        "\n",
        "# tokenize the test set and test labels\n",
        "\n",
        "test_texts = test_df.iloc[:,0].tolist()\n",
        "test_texts_vectorized = [tokenize_text(text, vectorizer) for text in test_texts]\n",
        "test_labels = test_df.iloc[:,1].tolist()\n",
        "\n",
        "test_texts_vectorized = torch.tensor(test_texts_vectorized, dtype=torch.float32)\n",
        "test_labels = torch.tensor(test_labels, dtype=torch.long)\n"
      ]
    },
    {
      "cell_type": "code",
      "execution_count": 42,
      "id": "79d7d2e8",
      "metadata": {
        "colab": {
          "base_uri": "https://localhost:8080/"
        },
        "id": "79d7d2e8",
        "outputId": "cbb7d813-97bd-43a5-c596-0d97e1e850e1"
      },
      "outputs": [
        {
          "name": "stdout",
          "output_type": "stream",
          "text": [
            "\n",
            "Epoch 1/10\n",
            "Train Loss: 0.6960154175758362\n",
            "Validation Loss: 0.6944561004638672\n",
            "Validation loss improved, saving model to checkpoint.pt\n",
            "\n",
            "Epoch 2/10\n",
            "Train Loss: 0.693789005279541\n",
            "Validation Loss: 0.6927558779716492\n",
            "Validation loss improved, saving model to checkpoint.pt\n",
            "\n",
            "Epoch 3/10\n",
            "Train Loss: 0.6913817524909973\n",
            "Validation Loss: 0.690915048122406\n",
            "Validation loss improved, saving model to checkpoint.pt\n",
            "\n",
            "Epoch 4/10\n",
            "Train Loss: 0.6885825395584106\n",
            "Validation Loss: 0.6883177757263184\n",
            "Validation loss improved, saving model to checkpoint.pt\n",
            "\n",
            "Epoch 5/10\n",
            "Train Loss: 0.6842949390411377\n",
            "Validation Loss: 0.6843283176422119\n",
            "Validation loss improved, saving model to checkpoint.pt\n",
            "\n",
            "Epoch 6/10\n",
            "Train Loss: 0.6772065162658691\n",
            "Validation Loss: 0.6789509057998657\n",
            "Validation loss improved, saving model to checkpoint.pt\n",
            "\n",
            "Epoch 7/10\n",
            "Train Loss: 0.6685348153114319\n",
            "Validation Loss: 0.6722466349601746\n",
            "Validation loss improved, saving model to checkpoint.pt\n",
            "\n",
            "Epoch 8/10\n",
            "Train Loss: 0.656557023525238\n",
            "Validation Loss: 0.6638122797012329\n",
            "Validation loss improved, saving model to checkpoint.pt\n",
            "\n",
            "Epoch 9/10\n",
            "Train Loss: 0.6416000723838806\n",
            "Validation Loss: 0.6532386541366577\n",
            "Validation loss improved, saving model to checkpoint.pt\n",
            "\n",
            "Epoch 10/10\n",
            "Train Loss: 0.6209638714790344\n",
            "Validation Loss: 0.6406296491622925\n",
            "Validation loss improved, saving model to checkpoint.pt\n"
          ]
        }
      ],
      "source": [
        "# train the model\n",
        "\n",
        "import torch.optim as optim\n",
        "\n",
        "criterion = nn.CrossEntropyLoss() # Pass the logits before the activation function\n",
        "optimizer = optim.Adam(model.parameters(), lr=0.001)\n",
        "num_epochs = 10\n",
        "\n",
        "# Save the best model as checkpoint.pt based on validation loss\n",
        "best_val_loss = float('inf')\n",
        "val_loss_list = []\n",
        "val_accuracy_list = []\n",
        "\n",
        "for epoch in range(num_epochs):\n",
        "    model.train()\n",
        "    optimizer.zero_grad()\n",
        "    outputs = model(train_texts_vectorized)\n",
        "    loss = criterion(outputs, train_labels)\n",
        "    loss.backward()\n",
        "    optimizer.step()\n",
        "\n",
        "    print(f\"\\nEpoch {epoch+1}/{num_epochs}\\nTrain Loss: {loss.item()}\")\n",
        "\n",
        "    # Validation\n",
        "    model.eval()\n",
        "    with torch.no_grad():\n",
        "        val_outputs = model(val_texts_vectorized)\n",
        "        val_loss = criterion(val_outputs, val_labels)\n",
        "        val_loss_list.append(val_loss.item())\n",
        "        val_predictions = torch.argmax(val_outputs, dim=1)\n",
        "        val_accuracy = (val_predictions == val_labels).float().mean().item()\n",
        "        val_accuracy_list.append(val_accuracy)\n",
        "        print(f\"Validation Loss: {val_loss.item()}\")\n",
        "        if val_loss < best_val_loss:\n",
        "            best_val_loss = val_loss\n",
        "            torch.save(model.state_dict(), 'checkpoint.pt')\n",
        "            print(f\"Validation loss improved, saving model to checkpoint.pt\")\n"
      ]
    },
    {
      "cell_type": "code",
      "execution_count": 43,
      "id": "a8198e2f",
      "metadata": {
        "colab": {
          "base_uri": "https://localhost:8080/",
          "height": 472
        },
        "id": "a8198e2f",
        "outputId": "aa3fc4cb-c921-4ca0-c4c0-fee4dd167de2"
      },
      "outputs": [
        {
          "data": {
            "image/png": "[encoded data removed]",
            "text/plain": [
              "<Figure size 640x480 with 1 Axes>"
            ]
          },
          "metadata": {},
          "output_type": "display_data"
        }
      ],
      "source": [
        "# plot the validation accuracy and loss per epoch\n",
        "import matplotlib.pyplot as plt\n",
        "\n",
        "plt.plot(val_loss_list, c='r', label='Validation Loss')\n",
        "plt.plot(val_accuracy_list, c='g', label='Validation Accuracy')\n",
        "plt.xlabel('Epoch')\n",
        "# plt.ylabel('Loss')\n",
        "plt.title('Validation accuracy-loss per Epoch')\n",
        "plt.legend()\n",
        "plt.show()"
      ]
    },
    {
      "cell_type": "markdown",
      "id": "2d528121",
      "metadata": {
        "id": "2d528121"
      },
      "source": [
        "## Model Quantization"
      ]
    },
    {
      "cell_type": "code",
      "execution_count": 44,
      "id": "fcc1a33a",
      "metadata": {
        "id": "fcc1a33a"
      },
      "outputs": [],
      "source": [
        "import time\n",
        "import os"
      ]
    },
    {
      "cell_type": "code",
      "execution_count": 45,
      "id": "8f2234f1",
      "metadata": {
        "id": "8f2234f1"
      },
      "outputs": [],
      "source": [
        "def model_info(model, type, test_texts_vectorized, test_labels):\n",
        "\n",
        "    info = [type]\n",
        "\n",
        "    model.eval()\n",
        "\n",
        "    # Get model's accuracy\n",
        "    model_output = model(test_texts_vectorized)\n",
        "    model_predictions = torch.argmax(model_output, dim=1)\n",
        "    model_accuracy = (model_predictions == test_labels).float().mean().item()\n",
        "    info.append(model_accuracy*100)\n",
        "\n",
        "    # Get model's size by making a temp directory and saving the model\n",
        "    torch.save(model.state_dict(), 'temp_model.pt')\n",
        "    model_size = os.path.getsize('temp_model.pt') / (1024 ** 2) # in MB\n",
        "    os.remove('temp_model.pt')\n",
        "    info.append(round(model_size,2))\n",
        "\n",
        "    # Get model's average inference time for single example\n",
        "    infer_times = []\n",
        "\n",
        "    for _ in range(500):\n",
        "      start_time = time.time()\n",
        "      with torch.no_grad():\n",
        "          model(test_texts_vectorized[0].unsqueeze(0))\n",
        "      end_time = time.time()\n",
        "      infer_times.append(end_time - start_time)\n",
        "\n",
        "    inference_time = sum(infer_times) / len(infer_times)\n",
        "    info.append(round(inference_time*1000, 2))\n",
        "\n",
        "    return info"
      ]
    },
    {
      "cell_type": "markdown",
      "id": "c62b118f",
      "metadata": {
        "id": "c62b118f"
      },
      "source": [
        "### Without Quantization"
      ]
    },
    {
      "cell_type": "code",
      "execution_count": 46,
      "id": "cfc937d6",
      "metadata": {
        "id": "cfc937d6"
      },
      "outputs": [],
      "source": [
        "# load best model\n",
        "best_model = MLP(10000,2)\n",
        "best_model.load_state_dict(torch.load('checkpoint.pt'))\n",
        "\n",
        "model_original_info_cpu = model_info(best_model, 'Original (CPU)',test_texts_vectorized,test_labels)\n",
        "\n",
        "device = torch.device(\"cuda\")\n",
        "best_model.to(device)\n",
        "test_texts_vectorized_device = test_texts_vectorized.to(device)\n",
        "test_labels_device = test_labels.to(device)\n",
        "model_original_info_gpu = model_info(best_model, 'Original (T4 GPU)',test_texts_vectorized_device,test_labels_device)"
      ]
    },
    {
      "cell_type": "markdown",
      "id": "23f840b9",
      "metadata": {
        "id": "23f840b9"
      },
      "source": [
        "### Dynamic Quantization with INT8"
      ]
    },
    {
      "cell_type": "code",
      "execution_count": 47,
      "id": "3d8ae210",
      "metadata": {
        "id": "3d8ae210"
      },
      "outputs": [],
      "source": [
        "import torch.quantization as quantization"
      ]
    },
    {
      "cell_type": "code",
      "execution_count": 48,
      "id": "0a19f297",
      "metadata": {
        "id": "0a19f297"
      },
      "outputs": [],
      "source": [
        "# load best model\n",
        "best_model = MLP(10000,2)\n",
        "best_model.load_state_dict(torch.load('checkpoint.pt'))\n",
        "\n",
        "# Dynamic Quantization with INT4\n",
        "model_int4 = quantization.quantize_dynamic(best_model, {nn.Linear}, dtype=torch.qint8)\n",
        "\n",
        "model_int4_info_cpu = model_info(model_int4, 'Dynamic (CPU ONLY)',test_texts_vectorized,test_labels)\n",
        "# model_int4_info_gpu = model_info(model_int4, 'Dynamic', \"cuda\")\n"
      ]
    },
    {
      "cell_type": "markdown",
      "id": "5c98a823",
      "metadata": {
        "id": "5c98a823"
      },
      "source": [
        "### Half precision"
      ]
    },
    {
      "cell_type": "code",
      "execution_count": 49,
      "id": "f4f5bea5",
      "metadata": {
        "id": "f4f5bea5"
      },
      "outputs": [],
      "source": [
        "# load best model\n",
        "best_model = MLP(10000,2)\n",
        "best_model.load_state_dict(torch.load('checkpoint.pt'))\n",
        "\n",
        "# Half Precision\n",
        "model_half = best_model.half()\n",
        "test_texts_vectorized_half = test_texts_vectorized.half()\n",
        "test_labels_half = test_labels.half()\n",
        "\n",
        "model_half_info_cpu = model_info(model_half, 'Half (CPU)', test_texts_vectorized_half,test_labels_half)\n",
        "\n",
        "device = torch.device(\"cuda\")\n",
        "best_model.to(device)\n",
        "test_texts_vectorized_half_device = test_texts_vectorized_half.to(device)\n",
        "test_labels_half_device = test_labels_half.to(device)\n",
        "model_half_info_gpu = model_info(model_half, 'Half (T4 GPU)', test_texts_vectorized_half_device,test_labels_half_device)"
      ]
    },
    {
      "cell_type": "markdown",
      "id": "197cb349",
      "metadata": {
        "id": "197cb349"
      },
      "source": [
        "### Table with all the Information"
      ]
    },
    {
      "cell_type": "code",
      "execution_count": 50,
      "id": "2c5ca2a2",
      "metadata": {
        "id": "2c5ca2a2"
      },
      "outputs": [],
      "source": [
        "# Generate the table with the results\n",
        "import pandas as pd\n",
        "\n",
        "columns = ['Model Name', 'Accuracy (%)', 'Size (MB)', 'Inference Time (ms)']\n",
        "data = [model_original_info_cpu,model_int4_info_cpu, model_half_info_cpu,model_original_info_gpu, model_half_info_gpu]\n",
        "df = pd.DataFrame(data, columns=columns)"
      ]
    },
    {
      "cell_type": "code",
      "execution_count": 51,
      "id": "043d1ae5",
      "metadata": {
        "colab": {
          "base_uri": "https://localhost:8080/",
          "height": 242
        },
        "id": "043d1ae5",
        "outputId": "d5bccd9f-6cf2-41f4-dedc-602992cfac4b"
      },
      "outputs": [
        {
          "name": "stdout",
          "output_type": "stream",
          "text": [
            "\n",
            "RESULTS\n"
          ]
        },
        {
          "data": {
            "text/html": [
              "<div>\n",
              "<style scoped>\n",
              "    .dataframe tbody tr th:only-of-type {\n",
              "        vertical-align: middle;\n",
              "    }\n",
              "\n",
              "    .dataframe tbody tr th {\n",
              "        vertical-align: top;\n",
              "    }\n",
              "\n",
              "    .dataframe thead th {\n",
              "        text-align: right;\n",
              "    }\n",
              "</style>\n",
              "<table border=\"1\" class=\"dataframe\">\n",
              "  <thead>\n",
              "    <tr style=\"text-align: right;\">\n",
              "      <th></th>\n",
              "      <th>Model Name</th>\n",
              "      <th>Accuracy (%)</th>\n",
              "      <th>Size (MB)</th>\n",
              "      <th>Inference Time (ms)</th>\n",
              "    </tr>\n",
              "  </thead>\n",
              "  <tbody>\n",
              "    <tr>\n",
              "      <th>0</th>\n",
              "      <td>Original (CPU)</td>\n",
              "      <td>73.296702</td>\n",
              "      <td>20.20</td>\n",
              "      <td>0.99</td>\n",
              "    </tr>\n",
              "    <tr>\n",
              "      <th>1</th>\n",
              "      <td>Dynamic (CPU ONLY)</td>\n",
              "      <td>73.351645</td>\n",
              "      <td>5.06</td>\n",
              "      <td>0.94</td>\n",
              "    </tr>\n",
              "    <tr>\n",
              "      <th>2</th>\n",
              "      <td>Half (CPU)</td>\n",
              "      <td>73.296702</td>\n",
              "      <td>10.10</td>\n",
              "      <td>0.27</td>\n",
              "    </tr>\n",
              "    <tr>\n",
              "      <th>3</th>\n",
              "      <td>Original (T4 GPU)</td>\n",
              "      <td>73.296708</td>\n",
              "      <td>20.20</td>\n",
              "      <td>0.32</td>\n",
              "    </tr>\n",
              "    <tr>\n",
              "      <th>4</th>\n",
              "      <td>Half (T4 GPU)</td>\n",
              "      <td>73.296708</td>\n",
              "      <td>10.10</td>\n",
              "      <td>0.30</td>\n",
              "    </tr>\n",
              "  </tbody>\n",
              "</table>\n",
              "</div>"
            ],
            "text/plain": [
              "           Model Name  Accuracy (%)  Size (MB)  Inference Time (ms)\n",
              "0      Original (CPU)     73.296702      20.20                 0.99\n",
              "1  Dynamic (CPU ONLY)     73.351645       5.06                 0.94\n",
              "2          Half (CPU)     73.296702      10.10                 0.27\n",
              "3   Original (T4 GPU)     73.296708      20.20                 0.32\n",
              "4       Half (T4 GPU)     73.296708      10.10                 0.30"
            ]
          },
          "metadata": {},
          "output_type": "display_data"
        }
      ],
      "source": [
        "print(\"\\nRESULTS\")\n",
        "display(df)"
      ]
    },
    {
      "cell_type": "code",
      "execution_count": 52,
      "id": "EA8SCfGyU848",
      "metadata": {
        "colab": {
          "base_uri": "https://localhost:8080/"
        },
        "id": "EA8SCfGyU848",
        "outputId": "41b9a6a4-8989-4b1b-e925-548e9481349a"
      },
      "outputs": [
        {
          "name": "stderr",
          "output_type": "stream",
          "text": [
            "'cat' is not recognized as an internal or external command,\n",
            "operable program or batch file.\n"
          ]
        }
      ],
      "source": [
        "!cat /proc/cpuinfo"
      ]
    },
    {
      "cell_type": "code",
      "execution_count": 53,
      "id": "8effba38",
      "metadata": {},
      "outputs": [
        {
          "name": "stdout",
          "output_type": "stream",
          "text": [
            "Name                                        NumberOfCores  NumberOfLogicalProcessors  \n",
            "\n",
            "AMD Ryzen 7 7840HS w/ Radeon 780M Graphics  8              16                         \n",
            "\n",
            "\n",
            "\n"
          ]
        }
      ],
      "source": [
        "!wmic cpu get name,NumberOfCores,NumberOfLogicalProcessors"
      ]
    },
    {
      "cell_type": "code",
      "execution_count": 54,
      "id": "9a3a9507",
      "metadata": {},
      "outputs": [
        {
          "name": "stderr",
          "output_type": "stream",
          "text": [
            "'Get-CimInstance' is not recognized as an internal or external command,\n",
            "operable program or batch file.\n"
          ]
        }
      ],
      "source": [
        "!Get-CimInstance Win32_Processor | Format-List *"
      ]
    },
    {
      "cell_type": "code",
      "execution_count": null,
      "id": "9a7d17d2",
      "metadata": {},
      "outputs": [],
      "source": []
    }
  ],
  "metadata": {
    "accelerator": "GPU",
    "colab": {
      "gpuType": "T4",
      "provenance": []
    },
    "kernelspec": {
      "display_name": ".venv",
      "language": "python",
      "name": "python3"
    },
    "language_info": {
      "codemirror_mode": {
        "name": "ipython",
        "version": 3
      },
      "file_extension": ".py",
      "mimetype": "text/x-python",
      "name": "python",
      "nbconvert_exporter": "python",
      "pygments_lexer": "ipython3",
      "version": "3.10.11"
    }
  },
  "nbformat": 4,
  "nbformat_minor": 5
}
